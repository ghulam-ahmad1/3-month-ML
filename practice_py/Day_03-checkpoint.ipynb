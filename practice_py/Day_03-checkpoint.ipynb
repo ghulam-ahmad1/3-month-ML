{
 "cells": [
  {
   "cell_type": "code",
   "execution_count": 1,
   "id": "9649f027",
   "metadata": {
    "pycharm": {
     "name": "#%%\n"
    }
   },
   "outputs": [
    {
     "name": "stdout",
     "output_type": "stream",
     "text": [
      "1\n",
      "2\n",
      "4\n",
      "5\n",
      "6\n"
     ]
    }
   ],
   "source": [
    "# While Loops Basics : \n",
    "# Basic Concept About While Loops  :: \n",
    "i=0\n",
    "while i<6 :\n",
    "    i+=1\n",
    "    if i == 3 :\n",
    "        continue \n",
    "    print(i)\n",
    "# Not that No 3 is missing in the Output : "
   ]
  },
  {
   "cell_type": "code",
   "execution_count": 9,
   "id": "d8363be8",
   "metadata": {
    "pycharm": {
     "name": "#%%\n"
    }
   },
   "outputs": [
    {
     "name": "stdout",
     "output_type": "stream",
     "text": [
      "1\n",
      "2\n",
      "3\n",
      "4\n",
      "5\n"
     ]
    }
   ],
   "source": [
    "i=1 \n",
    "while i <10 :\n",
    "    print(i)\n",
    "    if i==5:\n",
    "        break \n",
    "    i+=1"
   ]
  },
  {
   "cell_type": "code",
   "execution_count": 14,
   "id": "a96e51f0",
   "metadata": {
    "pycharm": {
     "name": "#%%\n"
    }
   },
   "outputs": [
    {
     "name": "stdout",
     "output_type": "stream",
     "text": [
      "1\n",
      "2\n",
      "3\n",
      "4\n",
      "5\n",
      "6\n",
      "7\n",
      "8\n",
      "9\n",
      "i is no longer less than 10 \n"
     ]
    }
   ],
   "source": [
    "i= 1\n",
    "while i <10 :\n",
    "    print(i)\n",
    "    i+=1\n",
    "else: \n",
    "    print(\"i is no longer less than 10 \")\n",
    "    "
   ]
  },
  {
   "cell_type": "code",
   "execution_count": 15,
   "id": "9ce98d4f",
   "metadata": {
    "pycharm": {
     "name": "#%%\n"
    }
   },
   "outputs": [
    {
     "name": "stdout",
     "output_type": "stream",
     "text": [
      "1\n",
      "Ahmad\n",
      "90.99\n",
      "True\n",
      "Ghulam\n"
     ]
    }
   ],
   "source": [
    "# passing List as an Argument in Function  :\n",
    "# Using the Function to printing the List :  \n",
    "def for_lst(lst1):\n",
    "    for x in lst1:\n",
    "        print(x)\n",
    "lst = [1,'Ahmad',90.99 ,True, \"Ghulam\"]\n",
    "for_lst(lst)"
   ]
  },
  {
   "cell_type": "markdown",
   "id": "038de5e0",
   "metadata": {
    "pycharm": {
     "name": "#%% md\n"
    }
   },
   "source": [
    "3<5\n"
   ]
  },
  {
   "cell_type": "code",
   "execution_count": 16,
   "id": "8f5cdaab",
   "metadata": {
    "pycharm": {
     "name": "#%%\n"
    }
   },
   "outputs": [
    {
     "name": "stdout",
     "output_type": "stream",
     "text": [
      "True\n"
     ]
    }
   ],
   "source": [
    "print(3<5)"
   ]
  },
  {
   "cell_type": "code",
   "execution_count": 17,
   "id": "aa1f6657",
   "metadata": {
    "pycharm": {
     "name": "#%%\n"
    }
   },
   "outputs": [
    {
     "data": {
      "text/plain": [
       "True"
      ]
     },
     "execution_count": 17,
     "metadata": {},
     "output_type": "execute_result"
    }
   ],
   "source": [
    "3<5\n"
   ]
  },
  {
   "cell_type": "code",
   "execution_count": 18,
   "id": "5af703d4",
   "metadata": {
    "pycharm": {
     "name": "#%%\n"
    }
   },
   "outputs": [
    {
     "name": "stdout",
     "output_type": "stream",
     "text": [
      "False\n"
     ]
    }
   ],
   "source": [
    "print(3==5)"
   ]
  },
  {
   "cell_type": "code",
   "execution_count": 19,
   "id": "994af48f",
   "metadata": {
    "pycharm": {
     "name": "#%%\n"
    }
   },
   "outputs": [
    {
     "name": "stdout",
     "output_type": "stream",
     "text": [
      "Enter Number : 01 :3\n",
      "Enter Number : 02 :4\n",
      "Flase\n"
     ]
    }
   ],
   "source": [
    "a=int(input(\"Enter Number : 01 :\"))\n",
    "b=int(input(\"Enter Number : 02 :\"))\n",
    "if a == b :\n",
    "    print(\"True\")\n",
    "else :\n",
    "    print(\"Flase\")"
   ]
  },
  {
   "cell_type": "code",
   "execution_count": 20,
   "id": "789111e4",
   "metadata": {
    "pycharm": {
     "name": "#%%\n"
    }
   },
   "outputs": [
    {
     "name": "stdout",
     "output_type": "stream",
     "text": [
      "True\n"
     ]
    }
   ],
   "source": [
    "print(bool(\"pk\"))"
   ]
  },
  {
   "cell_type": "code",
   "execution_count": 22,
   "id": "24ae906a",
   "metadata": {
    "pycharm": {
     "name": "#%%\n"
    }
   },
   "outputs": [
    {
     "name": "stdout",
     "output_type": "stream",
     "text": [
      "True\n"
     ]
    }
   ],
   "source": [
    "print(bool(10))"
   ]
  },
  {
   "cell_type": "code",
   "execution_count": 23,
   "id": "9a2c6d00",
   "metadata": {
    "pycharm": {
     "name": "#%%\n"
    }
   },
   "outputs": [
    {
     "name": "stdout",
     "output_type": "stream",
     "text": [
      "True\n"
     ]
    }
   ],
   "source": [
    "print(bool(str(90)))"
   ]
  },
  {
   "cell_type": "code",
   "execution_count": 25,
   "id": "c804c696",
   "metadata": {
    "pycharm": {
     "name": "#%%\n"
    }
   },
   "outputs": [
    {
     "name": "stdout",
     "output_type": "stream",
     "text": [
      "False\n"
     ]
    }
   ],
   "source": [
    "print(bool(0))"
   ]
  },
  {
   "cell_type": "code",
   "execution_count": 26,
   "id": "417ae2d8",
   "metadata": {
    "pycharm": {
     "name": "#%%\n"
    }
   },
   "outputs": [
    {
     "name": "stdout",
     "output_type": "stream",
     "text": [
      "\n"
     ]
    }
   ],
   "source": [
    "print('')"
   ]
  },
  {
   "cell_type": "code",
   "execution_count": 27,
   "id": "b82f5bbc",
   "metadata": {
    "pycharm": {
     "name": "#%%\n"
    }
   },
   "outputs": [
    {
     "name": "stdout",
     "output_type": "stream",
     "text": [
      "False\n"
     ]
    }
   ],
   "source": [
    "print(bool(''))"
   ]
  },
  {
   "cell_type": "code",
   "execution_count": 28,
   "id": "60cbfc71",
   "metadata": {
    "pycharm": {
     "name": "#%%\n"
    }
   },
   "outputs": [
    {
     "name": "stdout",
     "output_type": "stream",
     "text": [
      "False\n"
     ]
    }
   ],
   "source": [
    "print(bool([]))"
   ]
  },
  {
   "cell_type": "code",
   "execution_count": 29,
   "id": "f40e6d28",
   "metadata": {
    "pycharm": {
     "name": "#%%\n"
    }
   },
   "outputs": [
    {
     "name": "stdout",
     "output_type": "stream",
     "text": [
      "False\n"
     ]
    }
   ],
   "source": [
    "print(bool(False))"
   ]
  },
  {
   "cell_type": "code",
   "execution_count": 30,
   "id": "fb52d138",
   "metadata": {
    "pycharm": {
     "name": "#%%\n"
    }
   },
   "outputs": [
    {
     "name": "stdout",
     "output_type": "stream",
     "text": [
      "False\n"
     ]
    }
   ],
   "source": [
    "print(bool({}))"
   ]
  },
  {
   "cell_type": "code",
   "execution_count": 33,
   "id": "90d9afdb",
   "metadata": {
    "pycharm": {
     "name": "#%%\n"
    }
   },
   "outputs": [
    {
     "name": "stdout",
     "output_type": "stream",
     "text": [
      "False\n"
     ]
    }
   ],
   "source": [
    "print(bool())"
   ]
  },
  {
   "cell_type": "code",
   "execution_count": 34,
   "id": "9de40e8a",
   "metadata": {
    "pycharm": {
     "name": "#%%\n"
    }
   },
   "outputs": [],
   "source": [
    "# N Dimensional List \n",
    "# Tensor Flow \n",
    "# List is Important Data Structure for the Mchine Learning :"
   ]
  },
  {
   "cell_type": "code",
   "execution_count": 7,
   "id": "41d22eb0",
   "metadata": {
    "pycharm": {
     "name": "#%%\n"
    }
   },
   "outputs": [
    {
     "data": {
      "text/plain": [
       "['Ahmad', 'Muneeb', 'Waleed', 909, True, 78.4545]"
      ]
     },
     "execution_count": 7,
     "metadata": {},
     "output_type": "execute_result"
    }
   ],
   "source": [
    "lst=['Ahmad','Muneeb','Waleed',909,89,78,True,78.4545]\n",
    "lst"
   ]
  },
  {
   "cell_type": "code",
   "execution_count": 15,
   "id": "fba7394a",
   "metadata": {
    "pycharm": {
     "name": "#%%\n"
    }
   },
   "outputs": [
    {
     "name": "stdout",
     "output_type": "stream",
     "text": [
      "Ahmad\n",
      "Waleed\n",
      "['Ahmad', 'Muneeb', 'Waleed']\n",
      "<class 'str'>\n",
      "<class 'list'>\n"
     ]
    }
   ],
   "source": [
    "print(lst[0])\n",
    "print(lst[2])\n",
    "print(lst[0 : 3]) \n",
    "print(type(lst[2]))\n",
    "print(type(lst))"
   ]
  },
  {
   "cell_type": "code",
   "execution_count": 10,
   "id": "a1439c4d",
   "metadata": {
    "pycharm": {
     "name": "#%%\n"
    }
   },
   "outputs": [
    {
     "name": "stdout",
     "output_type": "stream",
     "text": [
      "Ahmad\n",
      "Muneeb\n",
      "Waleed\n",
      "909\n"
     ]
    }
   ],
   "source": [
    "for x in lst :\n",
    "    if x==lst[4] :\n",
    "        break \n",
    "    print(x)"
   ]
  },
  {
   "cell_type": "code",
   "execution_count": 26,
   "id": "ed202595",
   "metadata": {
    "pycharm": {
     "name": "#%%\n"
    }
   },
   "outputs": [
    {
     "name": "stdout",
     "output_type": "stream",
     "text": [
      "134\n",
      "<class 'int'>\n"
     ]
    }
   ],
   "source": [
    "lst1=['Ahmad','56', '78' , \"Ghulam\"]\n",
    "x = int(lst1[1])+int(lst1[2])\n",
    "print(x)\n",
    "print(type(x))"
   ]
  },
  {
   "cell_type": "code",
   "execution_count": 40,
   "id": "486d7423",
   "metadata": {
    "pycharm": {
     "name": "#%%\n"
    }
   },
   "outputs": [
    {
     "name": "stdout",
     "output_type": "stream",
     "text": [
      "4\n",
      "4\n"
     ]
    }
   ],
   "source": [
    "print(len(lst1))\n",
    "print(len(lst2))"
   ]
  },
  {
   "cell_type": "code",
   "execution_count": 44,
   "id": "536a7cea",
   "metadata": {
    "pycharm": {
     "name": "#%%\n"
    }
   },
   "outputs": [
    {
     "name": "stdout",
     "output_type": "stream",
     "text": [
      "Ghulam\n",
      "['Ahmad', '56', '78', 'Ghulam']\n",
      "['Ahmad', '56', '78']\n",
      "['Ahmad', '56']\n"
     ]
    }
   ],
   "source": [
    "print(lst1[-1])\n",
    "print(lst1)\n",
    "print(lst1[:3])\n",
    "print(lst1[-4 :- 2])"
   ]
  },
  {
   "cell_type": "code",
   "execution_count": 45,
   "id": "e6e80c20",
   "metadata": {
    "pycharm": {
     "name": "#%%\n"
    }
   },
   "outputs": [
    {
     "name": "stdout",
     "output_type": "stream",
     "text": [
      "Enter a name : Muneeb\n",
      "Don't even try now\n"
     ]
    }
   ],
   "source": [
    "x=input(\"Enter a name : \")\n",
    "if x in lst1 :\n",
    "    print(\"Its here \")\n",
    "else :\n",
    "    print(\"Don't even try now its not there !!\")"
   ]
  },
  {
   "cell_type": "code",
   "execution_count": 52,
   "id": "fe14d05d",
   "metadata": {
    "pycharm": {
     "name": "#%%\n"
    }
   },
   "outputs": [
    {
     "name": "stdout",
     "output_type": "stream",
     "text": [
      "List Before Editing : \n",
      "['Ahaaa', '56', '78', 'Ghulam']\n",
      "Enter a name  : Muneeb\n",
      "List after Changing the value : \n",
      "['Muneeb', '56', '78', 'Ghulam']\n"
     ]
    }
   ],
   "source": [
    "print(\"List Before Editing : \")\n",
    "print(lst1)\n",
    "x=input(\"Enter a name  : \")\n",
    "lst1[0]=x\n",
    "print(\"List after Changing the value : \")\n",
    "print(lst1)"
   ]
  },
  {
   "cell_type": "code",
   "execution_count": 53,
   "id": "db8b7acd",
   "metadata": {
    "pycharm": {
     "name": "#%%\n"
    }
   },
   "outputs": [
    {
     "name": "stdout",
     "output_type": "stream",
     "text": [
      "Muneeb\n",
      "56\n",
      "78\n",
      "Ghulam\n"
     ]
    }
   ],
   "source": [
    "for x in lst1 :\n",
    "    print(x)"
   ]
  },
  {
   "cell_type": "code",
   "execution_count": 56,
   "id": "e1333a84",
   "metadata": {
    "pycharm": {
     "name": "#%%\n"
    }
   },
   "outputs": [
    {
     "name": "stdout",
     "output_type": "stream",
     "text": [
      "['Ahmad', 90, 45, True]\n",
      "Printing its length\n",
      "0\n",
      "1\n",
      "2\n",
      "3\n"
     ]
    }
   ],
   "source": [
    "# We can also print the Index Through for loop :\n",
    "print(lst2)\n",
    "print(\"Printing its Index\")\n",
    "for i in range(len(lst2)) :\n",
    "    print(i)"
   ]
  },
  {
   "cell_type": "code",
   "execution_count": 57,
   "id": "f40a0b5e",
   "metadata": {
    "pycharm": {
     "name": "#%%\n"
    }
   },
   "outputs": [
    {
     "name": "stdout",
     "output_type": "stream",
     "text": [
      "['Ahmad', 90, 45, True, 'Muneeb']\n"
     ]
    }
   ],
   "source": [
    "lst2.append(\"Muneeb\")\n",
    "print(lst2)"
   ]
  },
  {
   "cell_type": "code",
   "execution_count": 62,
   "id": "68543793",
   "metadata": {
    "pycharm": {
     "name": "#%%\n"
    }
   },
   "outputs": [
    {
     "name": "stdout",
     "output_type": "stream",
     "text": [
      "['Ahmad', 90, 'Muneeb', True, 'Muneeb']\n"
     ]
    },
    {
     "data": {
      "text/plain": [
       "5"
      ]
     },
     "execution_count": 62,
     "metadata": {},
     "output_type": "execute_result"
    }
   ],
   "source": [
    "lst2[2]=\"Muneeb\"\n",
    "print(lst2)\n",
    "len(lst2)"
   ]
  },
  {
   "cell_type": "code",
   "execution_count": 66,
   "id": "07bb412f",
   "metadata": {
    "pycharm": {
     "name": "#%%\n"
    }
   },
   "outputs": [
    {
     "name": "stdout",
     "output_type": "stream",
     "text": [
      "['Ahmad', 90, 'Muneeb', ['Muneeb', '56', '78', 'Ghulam'], 'Muneeb', ['Muneeb', '56', '78', 'Ghulam'], ['Muneeb', '56', '78', 'Ghulam']]\n",
      "['Ahmad', 90, 'Muneeb', ['Muneeb', '56', '78', 'Ghulam'], 'Muneeb', ['Muneeb', '56', '78', 'Ghulam'], ['Muneeb', '56', '78', 'Ghulam']]\n"
     ]
    }
   ],
   "source": [
    "lst2.append(lst1)\n",
    "print(lst2)\n",
    "lst2[3]=lst1\n",
    "print(lst2)"
   ]
  },
  {
   "cell_type": "code",
   "execution_count": 67,
   "id": "6cc14bbd",
   "metadata": {
    "pycharm": {
     "name": "#%%\n"
    }
   },
   "outputs": [
    {
     "name": "stdout",
     "output_type": "stream",
     "text": [
      "['Ahmad', 90, 'Ahmad', 'Ghulam', ['Muneeb', '56', '78', 'Ghulam'], 'Muneeb', ['Muneeb', '56', '78', 'Ghulam'], ['Muneeb', '56', '78', 'Ghulam']]\n"
     ]
    }
   ],
   "source": [
    "lst2[2:3]=[\"Ahmad\", 'Ghulam']\n",
    "print(lst2)"
   ]
  },
  {
   "cell_type": "code",
   "execution_count": 76,
   "id": "848279ac",
   "metadata": {
    "pycharm": {
     "name": "#%%\n"
    }
   },
   "outputs": [
    {
     "name": "stdout",
     "output_type": "stream",
     "text": [
      "[34, 23, 456, 'Ajhmad', 5465, 'Ahmad']\n",
      "0\n",
      "1\n",
      "2\n",
      "3\n",
      "4\n",
      "5\n"
     ]
    }
   ],
   "source": [
    "t=[23,456,\"Ajhmad\"]\n",
    "ls=[34,5465, \"Ahmad\"]\n",
    "ls[1:1]=t\n",
    "print(ls)\n",
    "for i in range(len(ls)):\n",
    "    print(i)"
   ]
  },
  {
   "cell_type": "code",
   "execution_count": 77,
   "id": "e05d5dbe",
   "metadata": {
    "pycharm": {
     "name": "#%%\n"
    }
   },
   "outputs": [
    {
     "name": "stdout",
     "output_type": "stream",
     "text": [
      "Ahmad\n",
      "90\n",
      "Ahmad\n",
      "Ghulam\n",
      "['Muneeb', '56', '78', 'Ghulam']\n",
      "Muneeb\n",
      "['Muneeb', '56', '78', 'Ghulam']\n",
      "['Muneeb', '56', '78', 'Ghulam']\n"
     ]
    }
   ],
   "source": [
    "for i in lst2 :\n",
    "    print(i)"
   ]
  },
  {
   "cell_type": "code",
   "execution_count": 78,
   "id": "78fdd038",
   "metadata": {
    "pycharm": {
     "name": "#%%\n"
    }
   },
   "outputs": [],
   "source": [
    " del lst"
   ]
  },
  {
   "cell_type": "code",
   "execution_count": 79,
   "id": "6c9e45e9",
   "metadata": {
    "pycharm": {
     "name": "#%%\n"
    }
   },
   "outputs": [],
   "source": [
    "del lst2"
   ]
  },
  {
   "cell_type": "code",
   "execution_count": 80,
   "id": "acb0d5d4",
   "metadata": {
    "pycharm": {
     "name": "#%%\n"
    }
   },
   "outputs": [
    {
     "data": {
      "text/plain": [
       "['Muneeb', '56', '78', 'Ghulam']"
      ]
     },
     "execution_count": 80,
     "metadata": {},
     "output_type": "execute_result"
    }
   ],
   "source": [
    "lst1"
   ]
  },
  {
   "cell_type": "code",
   "execution_count": 86,
   "id": "fca7d81a",
   "metadata": {
    "pycharm": {
     "name": "#%%\n"
    }
   },
   "outputs": [
    {
     "data": {
      "text/plain": [
       "['Muneeb',\n",
       " 'Ahmad',\n",
       " 'Ahmad',\n",
       " 'Ahmad',\n",
       " 'Ahmad',\n",
       " 'Ahmad',\n",
       " '56',\n",
       " '78',\n",
       " 'Ghulam',\n",
       " 100,\n",
       " 100.89,\n",
       " 100]"
      ]
     },
     "execution_count": 86,
     "metadata": {},
     "output_type": "execute_result"
    }
   ],
   "source": [
    "lst1.insert(1,\"Ahmad\")\n",
    "lst1.append(100)\n",
    "lst1"
   ]
  },
  {
   "cell_type": "code",
   "execution_count": 93,
   "id": "3b6125fa",
   "metadata": {
    "pycharm": {
     "name": "#%%\n"
    }
   },
   "outputs": [
    {
     "name": "stdout",
     "output_type": "stream",
     "text": [
      "You wanted to insert : type [y] if not type[n] : \n",
      "Enter your Choice : y\n",
      "Enter Number : 67\n",
      "Enter Index at which 1\n",
      "[1, 67, 2, 3, 'Ahmad']\n",
      "You wanted to insert : type [y] if not type[n] : \n",
      "Enter your Choice : n\n",
      "Hope you Enjoy Runing Program !! \n"
     ]
    }
   ],
   "source": [
    "ls_1=[1,2,3,\"Ahmad\"]\n",
    "print(\"You wanted to insert : type [y] if not type[n] : \")\n",
    "choice = input(\"Enter your Choice : \")\n",
    "while True:\n",
    "    if choice == 'y' or choice == \"Y\":\n",
    "        x=int(input(\"Enter Number : \"))\n",
    "        y=int(input(\"Enter Index at which \"))\n",
    "        ls_1.insert(y,x)\n",
    "        print(ls_1)\n",
    "    else:\n",
    "        print('Hope you Enjoy Runing Program !! ')\n",
    "        break \n",
    "    print(\"You wanted to insert : type [y] if not type[n] : \")\n",
    "    choice = input(\"Enter your Choice : \")"
   ]
  },
  {
   "cell_type": "code",
   "execution_count": 92,
   "id": "1204a250",
   "metadata": {
    "pycharm": {
     "name": "#%%\n"
    }
   },
   "outputs": [
    {
     "name": "stdout",
     "output_type": "stream",
     "text": [
      "Ahmad\n"
     ]
    }
   ],
   "source": [
    "w=[67,89,[34,\"Ahmad\"],100]\n",
    "print(w[2][1])"
   ]
  },
  {
   "cell_type": "code",
   "execution_count": null,
   "id": "cf2c3519",
   "metadata": {
    "pycharm": {
     "name": "#%%\n"
    }
   },
   "outputs": [],
   "source": []
  }
 ],
 "metadata": {
  "kernelspec": {
   "display_name": "Python 3 (ipykernel)",
   "language": "python",
   "name": "python3"
  },
  "language_info": {
   "codemirror_mode": {
    "name": "ipython",
    "version": 3
   },
   "file_extension": ".py",
   "mimetype": "text/x-python",
   "name": "python",
   "nbconvert_exporter": "python",
   "pygments_lexer": "ipython3",
   "version": "3.10.9"
  }
 },
 "nbformat": 4,
 "nbformat_minor": 5
}