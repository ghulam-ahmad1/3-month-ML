{
 "cells": [
  {
   "cell_type": "code",
   "execution_count": 1,
   "id": "f1c9bf19",
   "metadata": {},
   "outputs": [
    {
     "name": "stdout",
     "output_type": "stream",
     "text": [
      "Hello Jupyter\n"
     ]
    }
   ],
   "source": [
    "print(\" Hello World \")"
   ]
  },
  {
   "cell_type": "code",
   "execution_count": 5,
   "id": "6c25baad",
   "metadata": {},
   "outputs": [
    {
     "name": "stdout",
     "output_type": "stream",
     "text": [
      "5\n",
      "<class 'str'>\n"
     ]
    }
   ],
   "source": [
    "x=\"5\"\n",
    "print(x)\n",
    "print(type(x))"
   ]
  },
  {
   "cell_type": "code",
   "execution_count": 10,
   "id": "11968fdf",
   "metadata": {},
   "outputs": [
    {
     "name": "stdout",
     "output_type": "stream",
     "text": [
      "Ghulam Ahmad\n",
      "<class 'str'>\n"
     ]
    }
   ],
   "source": [
    "x='Ghulam Ahmad'\n",
    "print(x)\n",
    "print(type(x))"
   ]
  },
  {
   "cell_type": "code",
   "execution_count": 11,
   "id": "33a67679",
   "metadata": {},
   "outputs": [
    {
     "name": "stdout",
     "output_type": "stream",
     "text": [
      "78\n",
      "<class 'int'>\n"
     ]
    }
   ],
   "source": [
    "x= int('78')\n",
    "print(x)\n",
    "print(type(x))"
   ]
  },
  {
   "cell_type": "code",
   "execution_count": 12,
   "id": "3aff9035",
   "metadata": {},
   "outputs": [
    {
     "name": "stdout",
     "output_type": "stream",
     "text": [
      "<class 'int'>\n",
      "<class 'str'>\n"
     ]
    }
   ],
   "source": [
    "y=\"78\"\n",
    "print(type(int(y)))\n",
    "print(type(y))"
   ]
  },
  {
   "cell_type": "code",
   "execution_count": 2,
   "id": "c5bb2ba5",
   "metadata": {},
   "outputs": [
    {
     "name": "stdout",
     "output_type": "stream",
     "text": [
      "<class 'float'>\n",
      "9.0\n",
      "<class 'int'>\n",
      "9\n",
      "<class 'str'>\n",
      "9\n",
      "Converting integer into string \n",
      "<class 'str'>\n",
      "100\n",
      "<class 'int'>\n",
      "100\n"
     ]
    }
   ],
   "source": [
    "# Practicing the Casting of the data types : \n",
    "\n",
    "f='9'\n",
    "print(type(float(f)))\n",
    "print(float(f))\n",
    "print(type(int(f)))\n",
    "print(int(f))\n",
    "print(type(f))\n",
    "print(f)\n",
    "z=100\n",
    "\n",
    "# Converting the interger into the String : \n",
    "print(\"Converting integer into string \")\n",
    "print(type(str(z)))\n",
    "print(str(z))\n",
    "print(type(z))\n",
    "print(z)"
   ]
  },
  {
   "cell_type": "code",
   "execution_count": 1,
   "id": "9704ca06",
   "metadata": {},
   "outputs": [
    {
     "data": {
      "text/plain": [
       "90"
      ]
     },
     "execution_count": 1,
     "metadata": {},
     "output_type": "execute_result"
    }
   ],
   "source": [
    "# Assigning the name  :  there are some rules :\n",
    "# can't name any variable like this :\n",
    "'''\n",
    "[its gives an error]\n",
    "100nb=89\n",
    "int = Ghulma Ahmad\n",
    "%= \"Haji\"\n",
    "'''\n",
    "# python is a case sensitive Languuage : \n",
    "y=90\n",
    "y"
   ]
  },
  {
   "cell_type": "code",
   "execution_count": 13,
   "id": "12660e54",
   "metadata": {},
   "outputs": [
    {
     "name": "stdout",
     "output_type": "stream",
     "text": [
      "Ghulam \n",
      "Ahmad \n",
      "Hell0\n"
     ]
    }
   ],
   "source": [
    "a,b,c='Ghulam','\\nAhmad','\\nHell0'\n",
    "print(a , b , c)\n"
   ]
  },
  {
   "cell_type": "code",
   "execution_count": 17,
   "id": "77b2315a",
   "metadata": {},
   "outputs": [
    {
     "name": "stdout",
     "output_type": "stream",
     "text": [
      "1\n",
      "3\n",
      "5\n"
     ]
    }
   ],
   "source": [
    "# About Strings :\n",
    "t,y,u=1,3,5\n",
    "print(t)\n",
    "print(y)\n",
    "print(u)"
   ]
  },
  {
   "cell_type": "code",
   "execution_count": 25,
   "id": "7cea84e8",
   "metadata": {},
   "outputs": [
    {
     "name": "stdout",
     "output_type": "stream",
     "text": [
      "Ghulam Ahmad\n",
      "Ghulam Ahmad\n",
      "Ghulam Ahmad\n"
     ]
    }
   ],
   "source": [
    "h=v=o =\"Ghulam Ahmad\"\n",
    "print(h)\n",
    "print(v)\n",
    "print(c)"
   ]
  },
  {
   "cell_type": "code",
   "execution_count": 29,
   "id": "f4c00807",
   "metadata": {},
   "outputs": [
    {
     "name": "stdout",
     "output_type": "stream",
     "text": [
      "90\n",
      "78\n",
      "Acessing the Global variable : \n",
      "90\n",
      "Function 1: \n",
      "90\n",
      "Function 2  : \n",
      "78\n",
      "Acessing the Global variable : \n",
      "90\n"
     ]
    }
   ],
   "source": [
    "x=90 # GLobal Variable : \n",
    "def func_1():\n",
    "    print(x)\n",
    "func_1()\n",
    "def func_2():\n",
    "    #Assigning a global variable in the function :\n",
    "    global y\n",
    "    y=78\n",
    "    print(y)\n",
    "    print(\"Acessing the Global variable : \")\n",
    "    return func_1()\n",
    "func_2()\n",
    "def func_3(): \n",
    "    # calling above two functions in this function : \n",
    "    print(\"Function 1: \")\n",
    "    func_1()\n",
    "    print(\"Function 2  : \")\n",
    "    func_2()\n",
    "func_3()"
   ]
  },
  {
   "cell_type": "code",
   "execution_count": 27,
   "id": "5b78b18c",
   "metadata": {},
   "outputs": [
    {
     "name": "stdout",
     "output_type": "stream",
     "text": [
      "1\n",
      "GHulam Ahmad\n",
      "[1, 34, 'GHulam Ahmad']\n",
      "<class 'list'>\n"
     ]
    }
   ],
   "source": [
    "# One way is the indexing of aCcessing the element of List  : \n",
    "l1=[1,34,\"GHulam Ahmad\"]\n",
    "a=l1[0]\n",
    "b=l1[2]\n",
    "print(a)\n",
    "print(b)\n",
    "print(l1)\n",
    "print(type(l1))\n",
    "# other Way is slicing : "
   ]
  },
  {
   "cell_type": "code",
   "execution_count": 16,
   "id": "fd9a04ed",
   "metadata": {},
   "outputs": [
    {
     "name": "stdout",
     "output_type": "stream",
     "text": [
      "Ali hassan ahmad\n"
     ]
    }
   ],
   "source": [
    "# You can also Unpack the List by doing this variable assinging :\n",
    "l2=['Ali','hassan','ahmad']\n",
    "a,b,c=l2\n",
    "print(a,b,c)\n",
    "# when you do this : \n",
    "'''a , b = l2 '''\n",
    "# this above gives an error because we need variables equal to the number of Elements im Lists : "
   ]
  },
  {
   "cell_type": "code",
   "execution_count": 24,
   "id": "4817e3de",
   "metadata": {},
   "outputs": [
    {
     "name": "stdout",
     "output_type": "stream",
     "text": [
      "ali ahmad ghulam\n",
      "aliahmadghulam\n",
      "909978\n"
     ]
    }
   ],
   "source": [
    "# concatination of  strings : \n",
    "o='ali'\n",
    "p= 'ahmad'\n",
    "u='ghulam'\n",
    "print(o,p,u)\n",
    "print(o+p+u)\n",
    "y='90'\n",
    "i='99'\n",
    "l='78'\n",
    "print(y+i+l)\n",
    "# String cannot concatinate with the Number : \n",
    "# For Concatination the data type should be same :"
   ]
  },
  {
   "cell_type": "code",
   "execution_count": 2,
   "id": "b3525b58",
   "metadata": {},
   "outputs": [
    {
     "ename": "SyntaxError",
     "evalue": "invalid decimal literal (895755121.py, line 1)",
     "output_type": "error",
     "traceback": [
      "\u001b[1;36m  Cell \u001b[1;32mIn[2], line 1\u001b[1;36m\u001b[0m\n\u001b[1;33m    100mj= \"GHul;am \"\u001b[0m\n\u001b[1;37m      ^\u001b[0m\n\u001b[1;31mSyntaxError\u001b[0m\u001b[1;31m:\u001b[0m invalid decimal literal\n"
     ]
    }
   ],
   "source": [
    "100mj= \"GHul;am \"\n",
    "print(100mj)"
   ]
  },
  {
   "cell_type": "code",
   "execution_count": 3,
   "id": "4b5bfbc1",
   "metadata": {},
   "outputs": [
    {
     "name": "stdout",
     "output_type": "stream",
     "text": [
      "4\n"
     ]
    }
   ],
   "source": [
    "a = 4\n",
    "A = \"Sally\"\n",
    "print(a)"
   ]
  },
  {
   "cell_type": "code",
   "execution_count": 10,
   "id": "6e253305",
   "metadata": {},
   "outputs": [
    {
     "name": "stdout",
     "output_type": "stream",
     "text": [
      "Fag 56 68.99\n",
      "<class 'str'> <class 'int'> <class 'float'>\n"
     ]
    }
   ],
   "source": [
    "s,d,f = \"Fag\" , 56 , 68.99\n",
    "print(s , d , f) \n",
    "print(type(s) , type(d) , type(f)) "
   ]
  },
  {
   "cell_type": "code",
   "execution_count": 19,
   "id": "8435a38d",
   "metadata": {},
   "outputs": [
    {
     "name": "stdout",
     "output_type": "stream",
     "text": [
      "Hello\n",
      "89\n",
      "Ghulam Ahmad\n",
      "jrdgfyg\n"
     ]
    }
   ],
   "source": [
    "y=\"Ghulam Ahmad\"\n",
    "def name() :\n",
    "    global r\n",
    "    r = \"jrdgfyg\"\n",
    "    x=89 # Local \n",
    "    print(\"Hello\")\n",
    "    print(x)\n",
    "    print(y)\n",
    "# name()\n",
    "print(r)\n",
    "# print(x)"
   ]
  },
  {
   "cell_type": "code",
   "execution_count": null,
   "id": "64d1acaf",
   "metadata": {},
   "outputs": [],
   "source": []
  }
 ],
 "metadata": {
  "kernelspec": {
   "display_name": "Python 3 (ipykernel)",
   "language": "python",
   "name": "python3"
  },
  "language_info": {
   "codemirror_mode": {
    "name": "ipython",
    "version": 3
   },
   "file_extension": ".py",
   "mimetype": "text/x-python",
   "name": "python",
   "nbconvert_exporter": "python",
   "pygments_lexer": "ipython3",
   "version": "3.10.9"
  }
 },
 "nbformat": 4,
 "nbformat_minor": 5
}
